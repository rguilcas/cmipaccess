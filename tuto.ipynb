{
 "cells": [
  {
   "cell_type": "markdown",
   "metadata": {},
   "source": [
    "# Tutorial for main cmipaccess functionnality"
   ]
  },
  {
   "cell_type": "markdown",
   "metadata": {},
   "source": [
    "cmipaccess contains three main submodules to easily access CMIP5 and CMIP6 data.\n",
    "- cmipaccess.esgf to access data online through esgf directly\n",
    "- cmipaccess.spiritx to access data on spiritx cluster\n",
    "- cmipaccess.local to download and manage global time series locally."
   ]
  },
  {
   "cell_type": "code",
   "execution_count": 1,
   "metadata": {},
   "outputs": [],
   "source": [
    "import cmipaccess as cmip"
   ]
  },
  {
   "cell_type": "markdown",
   "metadata": {},
   "source": [
    "## 1. cmipaccess.esgf\n",
    "This submodules allow to \n",
    "- get html links to access CMIP5 and CMIP6 data on esgf"
   ]
  },
  {
   "cell_type": "code",
   "execution_count": 2,
   "metadata": {},
   "outputs": [
    {
     "ename": "HTTPError",
     "evalue": "503 Server Error: Service Unavailable for url: https://esgf-node.llnl.gov/esg-search/search/?variable_id=thetao&experiment_id=historical&member_id=r1i1p1f1&frequency=mon&source_id=IPSL-CM6A-LR&latest=True&project=CMIP6&type=File&distrib=false&format=application%2Fsolr%2Bjson&offset=0",
     "output_type": "error",
     "traceback": [
      "\u001b[0;31m---------------------------------------------------------------------------\u001b[0m",
      "\u001b[0;31mHTTPError\u001b[0m                                 Traceback (most recent call last)",
      "Cell \u001b[0;32mIn[2], line 4\u001b[0m\n\u001b[1;32m      1\u001b[0m \u001b[38;5;66;03m# Find link to a given experiment/model/realisation/variable. Works for both CMIP5 and CMIP6.\u001b[39;00m\n\u001b[1;32m      2\u001b[0m \u001b[38;5;66;03m# This returns a list which can be used with xr.open_mfdataset to read the data\u001b[39;00m\n\u001b[0;32m----> 4\u001b[0m path_CMIP6 \u001b[38;5;241m=\u001b[39m \u001b[43mcmip\u001b[49m\u001b[38;5;241;43m.\u001b[39;49m\u001b[43mesgf\u001b[49m\u001b[38;5;241;43m.\u001b[39;49m\u001b[43mget_path_CMIP_data\u001b[49m\u001b[43m(\u001b[49m\u001b[38;5;124;43m'\u001b[39;49m\u001b[38;5;124;43mIPSL-CM6A-LR\u001b[39;49m\u001b[38;5;124;43m'\u001b[39;49m\u001b[43m,\u001b[49m\u001b[38;5;124;43m'\u001b[39;49m\u001b[38;5;124;43mhistorical\u001b[39;49m\u001b[38;5;124;43m'\u001b[39;49m\u001b[43m,\u001b[49m\u001b[38;5;124;43m'\u001b[39;49m\u001b[38;5;124;43mr1i1p1f1\u001b[39;49m\u001b[38;5;124;43m'\u001b[39;49m\u001b[43m,\u001b[49m\u001b[38;5;124;43m'\u001b[39;49m\u001b[38;5;124;43mthetao\u001b[39;49m\u001b[38;5;124;43m'\u001b[39;49m\u001b[43m)\u001b[49m\n\u001b[1;32m      5\u001b[0m \u001b[38;5;28mprint\u001b[39m(\u001b[38;5;124m\"\u001b[39m\u001b[38;5;124mPaths CMIP6 example 1: \u001b[39m\u001b[38;5;124m\"\u001b[39m, path_CMIP6)\n\u001b[1;32m      7\u001b[0m path_CMIP6 \u001b[38;5;241m=\u001b[39m cmip\u001b[38;5;241m.\u001b[39mesgf\u001b[38;5;241m.\u001b[39mget_path_CMIP_data(\u001b[38;5;124m'\u001b[39m\u001b[38;5;124mCESM2\u001b[39m\u001b[38;5;124m'\u001b[39m,\u001b[38;5;124m'\u001b[39m\u001b[38;5;124mabrupt-4xCO2\u001b[39m\u001b[38;5;124m'\u001b[39m,\u001b[38;5;124m'\u001b[39m\u001b[38;5;124mr1i1p1f1\u001b[39m\u001b[38;5;124m'\u001b[39m,\u001b[38;5;124m'\u001b[39m\u001b[38;5;124mtas\u001b[39m\u001b[38;5;124m'\u001b[39m)\n",
      "File \u001b[0;32m~/virtual_envs/phd/lib/python3.10/site-packages/cmipaccess/esgf/path_search.py:40\u001b[0m, in \u001b[0;36mget_path_CMIP_data\u001b[0;34m(model, experiment, realisation, variable, grid, freq, latest, generation)\u001b[0m\n\u001b[1;32m     38\u001b[0m \u001b[38;5;28;01melif\u001b[39;00m generation \u001b[38;5;129;01mis\u001b[39;00m \u001b[38;5;28;01mNone\u001b[39;00m:\n\u001b[1;32m     39\u001b[0m     \u001b[38;5;28;01mtry\u001b[39;00m:\n\u001b[0;32m---> 40\u001b[0m         paths \u001b[38;5;241m=\u001b[39m \u001b[43mget_path_CMIP6_data\u001b[49m\u001b[43m(\u001b[49m\u001b[43mmodel\u001b[49m\u001b[43m,\u001b[49m\u001b[43m \u001b[49m\n\u001b[1;32m     41\u001b[0m \u001b[43m                                    \u001b[49m\u001b[43mexperiment\u001b[49m\u001b[43m,\u001b[49m\u001b[43m \u001b[49m\n\u001b[1;32m     42\u001b[0m \u001b[43m                                    \u001b[49m\u001b[43mrealisation\u001b[49m\u001b[43m,\u001b[49m\u001b[43m \u001b[49m\n\u001b[1;32m     43\u001b[0m \u001b[43m                                    \u001b[49m\u001b[43mvariable\u001b[49m\u001b[43m,\u001b[49m\n\u001b[1;32m     44\u001b[0m \u001b[43m                                    \u001b[49m\u001b[43mgrid\u001b[49m\u001b[38;5;241;43m=\u001b[39;49m\u001b[43mgrid\u001b[49m\u001b[43m,\u001b[49m\n\u001b[1;32m     45\u001b[0m \u001b[43m                                    \u001b[49m\u001b[43mlatest\u001b[49m\u001b[38;5;241;43m=\u001b[39;49m\u001b[43mlatest\u001b[49m\u001b[43m,\u001b[49m\n\u001b[1;32m     46\u001b[0m \u001b[43m                                    \u001b[49m\u001b[43mfreq\u001b[49m\u001b[38;5;241;43m=\u001b[39;49m\u001b[43mfreq\u001b[49m\u001b[43m)\u001b[49m\n\u001b[1;32m     47\u001b[0m         \u001b[38;5;28;01mreturn\u001b[39;00m paths\n\u001b[1;32m     48\u001b[0m     \u001b[38;5;28;01mexcept\u001b[39;00m \u001b[38;5;167;01mValueError\u001b[39;00m:\n",
      "File \u001b[0;32m~/virtual_envs/phd/lib/python3.10/site-packages/cmipaccess/esgf/path_search.py:79\u001b[0m, in \u001b[0;36mget_path_CMIP6_data\u001b[0;34m(model, experiment, realisation, variable, freq, latest, grid)\u001b[0m\n\u001b[1;32m     75\u001b[0m \u001b[38;5;250m\u001b[39m\u001b[38;5;124;03m\"\"\"\u001b[39;00m\n\u001b[1;32m     76\u001b[0m \u001b[38;5;124;03mReturns the remote ESGF path to the corresponding datasets they exist on ESGF.\u001b[39;00m\n\u001b[1;32m     77\u001b[0m \u001b[38;5;124;03m\"\"\"\u001b[39;00m\n\u001b[1;32m     78\u001b[0m  \u001b[38;5;66;03m# Checks model availability\u001b[39;00m\n\u001b[0;32m---> 79\u001b[0m all_paths \u001b[38;5;241m=\u001b[39m \u001b[43mesgf_search\u001b[49m\u001b[43m(\u001b[49m\u001b[43mvariable_id\u001b[49m\u001b[38;5;241;43m=\u001b[39;49m\u001b[43mvariable\u001b[49m\u001b[43m,\u001b[49m\n\u001b[1;32m     80\u001b[0m \u001b[43m                        \u001b[49m\u001b[43mexperiment_id\u001b[49m\u001b[38;5;241;43m=\u001b[39;49m\u001b[43mexperiment\u001b[49m\u001b[43m,\u001b[49m\u001b[43m \u001b[49m\n\u001b[1;32m     81\u001b[0m \u001b[43m                        \u001b[49m\u001b[43mmember_id\u001b[49m\u001b[38;5;241;43m=\u001b[39;49m\u001b[43mrealisation\u001b[49m\u001b[43m,\u001b[49m\n\u001b[1;32m     82\u001b[0m \u001b[43m                        \u001b[49m\u001b[43mfrequency\u001b[49m\u001b[38;5;241;43m=\u001b[39;49m\u001b[43mfreq\u001b[49m\u001b[43m,\u001b[49m\n\u001b[1;32m     83\u001b[0m \u001b[43m                        \u001b[49m\u001b[43msource_id\u001b[49m\u001b[38;5;241;43m=\u001b[39;49m\u001b[43mmodel\u001b[49m\u001b[43m,\u001b[49m\n\u001b[1;32m     84\u001b[0m \u001b[43m                        \u001b[49m\u001b[43mlatest\u001b[49m\u001b[38;5;241;43m=\u001b[39;49m\u001b[43mlatest\u001b[49m\u001b[43m,\u001b[49m\u001b[43m)\u001b[49m\n\u001b[1;32m     85\u001b[0m \u001b[38;5;28;01mif\u001b[39;00m \u001b[38;5;28mlen\u001b[39m(all_paths) \u001b[38;5;241m==\u001b[39m \u001b[38;5;241m0\u001b[39m:\n\u001b[1;32m     86\u001b[0m     \u001b[38;5;28;01mraise\u001b[39;00m \u001b[38;5;167;01mValueError\u001b[39;00m(\u001b[38;5;124m\"\u001b[39m\u001b[38;5;124mNo such data exist on ESGF\u001b[39m\u001b[38;5;124m\"\u001b[39m)\n",
      "File \u001b[0;32m~/virtual_envs/phd/lib/python3.10/site-packages/cmipaccess/esgf/esgf_data_access.py:58\u001b[0m, in \u001b[0;36mesgf_search\u001b[0;34m(server, files_type, local_node, project, verbose, format, use_csrf, **search)\u001b[0m\n\u001b[1;32m     56\u001b[0m \u001b[38;5;66;03m# print(url)\u001b[39;00m\n\u001b[1;32m     57\u001b[0m r \u001b[38;5;241m=\u001b[39m client\u001b[38;5;241m.\u001b[39mget(url)\n\u001b[0;32m---> 58\u001b[0m \u001b[43mr\u001b[49m\u001b[38;5;241;43m.\u001b[39;49m\u001b[43mraise_for_status\u001b[49m\u001b[43m(\u001b[49m\u001b[43m)\u001b[49m\n\u001b[1;32m     59\u001b[0m resp \u001b[38;5;241m=\u001b[39m r\u001b[38;5;241m.\u001b[39mjson()[\u001b[38;5;124m\"\u001b[39m\u001b[38;5;124mresponse\u001b[39m\u001b[38;5;124m\"\u001b[39m]\n\u001b[1;32m     60\u001b[0m numFound \u001b[38;5;241m=\u001b[39m \u001b[38;5;28mint\u001b[39m(resp[\u001b[38;5;124m\"\u001b[39m\u001b[38;5;124mnumFound\u001b[39m\u001b[38;5;124m\"\u001b[39m])\n",
      "File \u001b[0;32m/net/nfs/tools/u20/Python/miniconda3_py310_22.11.1-1/envs/pangeo-meso-2023.04.15/lib/python3.10/site-packages/requests/models.py:1021\u001b[0m, in \u001b[0;36mResponse.raise_for_status\u001b[0;34m(self)\u001b[0m\n\u001b[1;32m   1016\u001b[0m     http_error_msg \u001b[38;5;241m=\u001b[39m (\n\u001b[1;32m   1017\u001b[0m         \u001b[38;5;124mf\u001b[39m\u001b[38;5;124m\"\u001b[39m\u001b[38;5;132;01m{\u001b[39;00m\u001b[38;5;28mself\u001b[39m\u001b[38;5;241m.\u001b[39mstatus_code\u001b[38;5;132;01m}\u001b[39;00m\u001b[38;5;124m Server Error: \u001b[39m\u001b[38;5;132;01m{\u001b[39;00mreason\u001b[38;5;132;01m}\u001b[39;00m\u001b[38;5;124m for url: \u001b[39m\u001b[38;5;132;01m{\u001b[39;00m\u001b[38;5;28mself\u001b[39m\u001b[38;5;241m.\u001b[39murl\u001b[38;5;132;01m}\u001b[39;00m\u001b[38;5;124m\"\u001b[39m\n\u001b[1;32m   1018\u001b[0m     )\n\u001b[1;32m   1020\u001b[0m \u001b[38;5;28;01mif\u001b[39;00m http_error_msg:\n\u001b[0;32m-> 1021\u001b[0m     \u001b[38;5;28;01mraise\u001b[39;00m HTTPError(http_error_msg, response\u001b[38;5;241m=\u001b[39m\u001b[38;5;28mself\u001b[39m)\n",
      "\u001b[0;31mHTTPError\u001b[0m: 503 Server Error: Service Unavailable for url: https://esgf-node.llnl.gov/esg-search/search/?variable_id=thetao&experiment_id=historical&member_id=r1i1p1f1&frequency=mon&source_id=IPSL-CM6A-LR&latest=True&project=CMIP6&type=File&distrib=false&format=application%2Fsolr%2Bjson&offset=0"
     ]
    }
   ],
   "source": [
    "# Find link to a given experiment/model/realisation/variable. Works for both CMIP5 and CMIP6.\n",
    "# This returns a list which can be used with xr.open_mfdataset to read the data\n",
    "\n",
    "path_CMIP6 = cmip.esgf.get_path_CMIP_data('IPSL-CM6A-LR','historical','r1i1p1f1','thetao')\n",
    "print(\"Paths CMIP6 example 1: \", path_CMIP6)\n",
    "\n",
    "path_CMIP6 = cmip.esgf.get_path_CMIP_data('CESM2','abrupt-4xCO2','r1i1p1f1','tas')\n",
    "print(\"Paths CMIP6 example 2 : \", path_CMIP6)\n",
    "\n",
    "path_CMIP5 = cmip.esgf.get_path_CMIP_data('CNRM-CM5','1pctCO2','r1i1p1','rsut')\n",
    "print(\"Paths CMIP5 example 1 : \", path_CMIP5)"
   ]
  },
  {
   "cell_type": "markdown",
   "metadata": {},
   "source": [
    "- find available models for a given experiment or members for a given model and experiment"
   ]
  },
  {
   "cell_type": "code",
   "execution_count": 5,
   "metadata": {},
   "outputs": [
    {
     "ename": "HTTPError",
     "evalue": "500 Server Error: 500 for url: https://esgf-node.llnl.gov/esg-search/search?format=application%2Fsolr%2Bjson&limit=0&distrib=true&type=Dataset&project=CMIP6&experiment_id=hist-volc&variable=tas&table_id=Amon&facets=source_id%2Cmember_id%2Cdata_node",
     "output_type": "error",
     "traceback": [
      "\u001b[0;31m---------------------------------------------------------------------------\u001b[0m",
      "\u001b[0;31mHTTPError\u001b[0m                                 Traceback (most recent call last)",
      "Cell \u001b[0;32mIn[5], line 3\u001b[0m\n\u001b[1;32m      1\u001b[0m \u001b[38;5;66;03m# Find available models for a given experiment or realisations for a given mode/experiment. Only works for CMIP6 at the moment\u001b[39;00m\n\u001b[0;32m----> 3\u001b[0m models_hist_volc \u001b[38;5;241m=\u001b[39m \u001b[43mcmip\u001b[49m\u001b[38;5;241;43m.\u001b[39;49m\u001b[43mesgf\u001b[49m\u001b[38;5;241;43m.\u001b[39;49m\u001b[43mfind_models_experiment\u001b[49m\u001b[43m(\u001b[49m\u001b[38;5;124;43m'\u001b[39;49m\u001b[38;5;124;43mhist-volc\u001b[39;49m\u001b[38;5;124;43m'\u001b[39;49m\u001b[43m)\u001b[49m\n\u001b[1;32m      4\u001b[0m \u001b[38;5;28mprint\u001b[39m(\u001b[38;5;124m'\u001b[39m\u001b[38;5;124mModels for experiment hist-volc:\u001b[39m\u001b[38;5;124m'\u001b[39m, models_hist_volc)\n\u001b[1;32m      6\u001b[0m realisations_hist_volc_miroc6 \u001b[38;5;241m=\u001b[39m cmip\u001b[38;5;241m.\u001b[39mesgf\u001b[38;5;241m.\u001b[39mfind_realisations_experiment(\u001b[38;5;124m'\u001b[39m\u001b[38;5;124mMIROC6\u001b[39m\u001b[38;5;124m'\u001b[39m, \u001b[38;5;124m'\u001b[39m\u001b[38;5;124mhist-volc\u001b[39m\u001b[38;5;124m'\u001b[39m)\n",
      "File \u001b[0;32m~/virtual_envs/phd/lib/python3.10/site-packages/cmipaccess/esgf/find_available_data.py:18\u001b[0m, in \u001b[0;36mfind_models_experiment\u001b[0;34m(experiment, variable, table)\u001b[0m\n\u001b[1;32m     11\u001b[0m facets\u001b[38;5;241m=\u001b[39m\u001b[38;5;124m'\u001b[39m\u001b[38;5;124msource_id,member_id,data_node\u001b[39m\u001b[38;5;124m'\u001b[39m\n\u001b[1;32m     12\u001b[0m ctx \u001b[38;5;241m=\u001b[39m conn\u001b[38;5;241m.\u001b[39mnew_context(\n\u001b[1;32m     13\u001b[0m     project\u001b[38;5;241m=\u001b[39m\u001b[38;5;124m'\u001b[39m\u001b[38;5;124mCMIP6\u001b[39m\u001b[38;5;124m'\u001b[39m,\n\u001b[1;32m     14\u001b[0m     experiment_id\u001b[38;5;241m=\u001b[39mexperiment,\n\u001b[1;32m     15\u001b[0m     variable\u001b[38;5;241m=\u001b[39mvariable,\n\u001b[1;32m     16\u001b[0m     table_id\u001b[38;5;241m=\u001b[39mtable,\n\u001b[1;32m     17\u001b[0m     facets\u001b[38;5;241m=\u001b[39mfacets)\n\u001b[0;32m---> 18\u001b[0m models \u001b[38;5;241m=\u001b[39m \u001b[38;5;28mlist\u001b[39m(\u001b[43mctx\u001b[49m\u001b[38;5;241;43m.\u001b[39;49m\u001b[43mfacet_counts\u001b[49m[\u001b[38;5;124m'\u001b[39m\u001b[38;5;124msource_id\u001b[39m\u001b[38;5;124m'\u001b[39m]\u001b[38;5;241m.\u001b[39mkeys())\n\u001b[1;32m     19\u001b[0m models\u001b[38;5;241m.\u001b[39msort()\n\u001b[1;32m     20\u001b[0m \u001b[38;5;28;01mreturn\u001b[39;00m models\n",
      "File \u001b[0;32m~/virtual_envs/phd/lib/python3.10/site-packages/pyesgf/search/context.py:177\u001b[0m, in \u001b[0;36mSearchContext.facet_counts\u001b[0;34m(self)\u001b[0m\n\u001b[1;32m    175\u001b[0m \u001b[38;5;129m@property\u001b[39m\n\u001b[1;32m    176\u001b[0m \u001b[38;5;28;01mdef\u001b[39;00m \u001b[38;5;21mfacet_counts\u001b[39m(\u001b[38;5;28mself\u001b[39m):\n\u001b[0;32m--> 177\u001b[0m     \u001b[38;5;28;43mself\u001b[39;49m\u001b[38;5;241;43m.\u001b[39;49m\u001b[43m__update_counts\u001b[49m\u001b[43m(\u001b[49m\u001b[43m)\u001b[49m\n\u001b[1;32m    178\u001b[0m     \u001b[38;5;28;01mreturn\u001b[39;00m \u001b[38;5;28mself\u001b[39m\u001b[38;5;241m.\u001b[39m__facet_counts\n",
      "File \u001b[0;32m~/virtual_envs/phd/lib/python3.10/site-packages/pyesgf/search/context.py:220\u001b[0m, in \u001b[0;36mSearchContext.__update_counts\u001b[0;34m(self)\u001b[0m\n\u001b[1;32m    217\u001b[0m     \u001b[38;5;28;01mif\u001b[39;00m \u001b[38;5;28mself\u001b[39m\u001b[38;5;241m.\u001b[39mconnection\u001b[38;5;241m.\u001b[39mdistrib:\n\u001b[1;32m    218\u001b[0m         \u001b[38;5;28mself\u001b[39m\u001b[38;5;241m.\u001b[39m_do_facets_star_warning()\n\u001b[0;32m--> 220\u001b[0m response \u001b[38;5;241m=\u001b[39m \u001b[38;5;28;43mself\u001b[39;49m\u001b[38;5;241;43m.\u001b[39;49m\u001b[43mconnection\u001b[49m\u001b[38;5;241;43m.\u001b[39;49m\u001b[43msend_search\u001b[49m\u001b[43m(\u001b[49m\u001b[43mquery_dict\u001b[49m\u001b[43m,\u001b[49m\u001b[43m \u001b[49m\u001b[43mlimit\u001b[49m\u001b[38;5;241;43m=\u001b[39;49m\u001b[38;5;241;43m0\u001b[39;49m\u001b[43m)\u001b[49m\n\u001b[1;32m    221\u001b[0m \u001b[38;5;28;01mfor\u001b[39;00m facet, counts \u001b[38;5;129;01min\u001b[39;00m (\u001b[38;5;28mlist\u001b[39m(response[\u001b[38;5;124m'\u001b[39m\u001b[38;5;124mfacet_counts\u001b[39m\u001b[38;5;124m'\u001b[39m][\u001b[38;5;124m'\u001b[39m\u001b[38;5;124mfacet_fields\u001b[39m\u001b[38;5;124m'\u001b[39m]\u001b[38;5;241m.\u001b[39mitems())):\n\u001b[1;32m    222\u001b[0m     d \u001b[38;5;241m=\u001b[39m \u001b[38;5;28mself\u001b[39m\u001b[38;5;241m.\u001b[39m__facet_counts[facet] \u001b[38;5;241m=\u001b[39m {}\n",
      "File \u001b[0;32m~/virtual_envs/phd/lib/python3.10/site-packages/pyesgf/search/connection.py:159\u001b[0m, in \u001b[0;36mSearchConnection.send_search\u001b[0;34m(self, query_dict, limit, offset, shards)\u001b[0m\n\u001b[1;32m    157\u001b[0m \u001b[38;5;28;01mif\u001b[39;00m \u001b[38;5;129;01mnot\u001b[39;00m \u001b[38;5;28mself\u001b[39m\u001b[38;5;241m.\u001b[39m_isopen:\n\u001b[1;32m    158\u001b[0m     \u001b[38;5;28mself\u001b[39m\u001b[38;5;241m.\u001b[39mopen()\n\u001b[0;32m--> 159\u001b[0m response \u001b[38;5;241m=\u001b[39m \u001b[38;5;28;43mself\u001b[39;49m\u001b[38;5;241;43m.\u001b[39;49m\u001b[43m_send_query\u001b[49m\u001b[43m(\u001b[49m\u001b[38;5;124;43m'\u001b[39;49m\u001b[38;5;124;43msearch\u001b[39;49m\u001b[38;5;124;43m'\u001b[39;49m\u001b[43m,\u001b[49m\u001b[43m \u001b[49m\u001b[43mfull_query\u001b[49m\u001b[43m)\u001b[49m\n\u001b[1;32m    160\u001b[0m ret \u001b[38;5;241m=\u001b[39m response\u001b[38;5;241m.\u001b[39mjson()\n\u001b[1;32m    161\u001b[0m response\u001b[38;5;241m.\u001b[39mclose()\n",
      "File \u001b[0;32m~/virtual_envs/phd/lib/python3.10/site-packages/pyesgf/search/connection.py:213\u001b[0m, in \u001b[0;36mSearchConnection._send_query\u001b[0;34m(self, endpoint, full_query)\u001b[0m\n\u001b[1;32m    210\u001b[0m     \u001b[38;5;28;01mraise\u001b[39;00m \u001b[38;5;167;01mException\u001b[39;00m(\u001b[38;5;124m\"\u001b[39m\u001b[38;5;124mInvalid query parameter(s): \u001b[39m\u001b[38;5;132;01m%s\u001b[39;00m\u001b[38;5;124m\"\u001b[39m \u001b[38;5;241m%\u001b[39m content)\n\u001b[1;32m    212\u001b[0m \u001b[38;5;66;03m# Raise if query was unsucessful:\u001b[39;00m\n\u001b[0;32m--> 213\u001b[0m \u001b[43mresponse\u001b[49m\u001b[38;5;241;43m.\u001b[39;49m\u001b[43mraise_for_status\u001b[49m\u001b[43m(\u001b[49m\u001b[43m)\u001b[49m\n\u001b[1;32m    214\u001b[0m \u001b[38;5;28;01mreturn\u001b[39;00m response\n",
      "File \u001b[0;32m/net/nfs/tools/u20/Python/miniconda3_py310_22.11.1-1/envs/pangeo-meso-2023.04.15/lib/python3.10/site-packages/requests/models.py:1021\u001b[0m, in \u001b[0;36mResponse.raise_for_status\u001b[0;34m(self)\u001b[0m\n\u001b[1;32m   1016\u001b[0m     http_error_msg \u001b[38;5;241m=\u001b[39m (\n\u001b[1;32m   1017\u001b[0m         \u001b[38;5;124mf\u001b[39m\u001b[38;5;124m\"\u001b[39m\u001b[38;5;132;01m{\u001b[39;00m\u001b[38;5;28mself\u001b[39m\u001b[38;5;241m.\u001b[39mstatus_code\u001b[38;5;132;01m}\u001b[39;00m\u001b[38;5;124m Server Error: \u001b[39m\u001b[38;5;132;01m{\u001b[39;00mreason\u001b[38;5;132;01m}\u001b[39;00m\u001b[38;5;124m for url: \u001b[39m\u001b[38;5;132;01m{\u001b[39;00m\u001b[38;5;28mself\u001b[39m\u001b[38;5;241m.\u001b[39murl\u001b[38;5;132;01m}\u001b[39;00m\u001b[38;5;124m\"\u001b[39m\n\u001b[1;32m   1018\u001b[0m     )\n\u001b[1;32m   1020\u001b[0m \u001b[38;5;28;01mif\u001b[39;00m http_error_msg:\n\u001b[0;32m-> 1021\u001b[0m     \u001b[38;5;28;01mraise\u001b[39;00m HTTPError(http_error_msg, response\u001b[38;5;241m=\u001b[39m\u001b[38;5;28mself\u001b[39m)\n",
      "\u001b[0;31mHTTPError\u001b[0m: 500 Server Error: 500 for url: https://esgf-node.llnl.gov/esg-search/search?format=application%2Fsolr%2Bjson&limit=0&distrib=true&type=Dataset&project=CMIP6&experiment_id=hist-volc&variable=tas&table_id=Amon&facets=source_id%2Cmember_id%2Cdata_node"
     ]
    }
   ],
   "source": [
    "# Find available models for a given experiment or realisations for a given mode/experiment. Only works for CMIP6 at the moment\n",
    "\n",
    "models_hist_volc = cmip.esgf.find_models_experiment('hist-volc')\n",
    "print('Models for experiment hist-volc:', models_hist_volc)\n",
    "\n",
    "realisations_hist_volc_miroc6 = cmip.esgf.find_realisations_experiment('MIROC6', 'hist-volc')\n",
    "print('Realisations for MIROC6 hist-volc experiment:', realisations_hist_volc_miroc6)"
   ]
  },
  {
   "cell_type": "markdown",
   "metadata": {},
   "source": [
    "- get html links for grid data (areacello/areacella)"
   ]
  },
  {
   "cell_type": "code",
   "execution_count": 6,
   "metadata": {},
   "outputs": [
    {
     "ename": "HTTPError",
     "evalue": "500 Server Error: 500 for url: https://esgf-node.llnl.gov/esg-search/search/?variable_id=areacello&experiment_id=piControl&table_id=Ofx&grid_label=gn&source_id=CESM2&project=CMIP6&type=File&distrib=false&format=application%2Fsolr%2Bjson&offset=0",
     "output_type": "error",
     "traceback": [
      "\u001b[0;31m---------------------------------------------------------------------------\u001b[0m",
      "\u001b[0;31mHTTPError\u001b[0m                                 Traceback (most recent call last)",
      "Cell \u001b[0;32mIn[6], line 3\u001b[0m\n\u001b[1;32m      1\u001b[0m \u001b[38;5;66;03m# Get link to cell information variables. For now only possible with areacello and areacella\u001b[39;00m\n\u001b[0;32m----> 3\u001b[0m area_path \u001b[38;5;241m=\u001b[39m \u001b[43mcmip\u001b[49m\u001b[38;5;241;43m.\u001b[39;49m\u001b[43mesgf\u001b[49m\u001b[38;5;241;43m.\u001b[39;49m\u001b[43mget_path_cell\u001b[49m\u001b[43m(\u001b[49m\u001b[38;5;124;43m'\u001b[39;49m\u001b[38;5;124;43mCESM2\u001b[39;49m\u001b[38;5;124;43m'\u001b[39;49m\u001b[43m,\u001b[49m\u001b[38;5;124;43m'\u001b[39;49m\u001b[38;5;124;43mareacello\u001b[39;49m\u001b[38;5;124;43m'\u001b[39;49m\u001b[43m,\u001b[49m\u001b[43m \u001b[49m\u001b[38;5;124;43m'\u001b[39;49m\u001b[38;5;124;43mgn\u001b[39;49m\u001b[38;5;124;43m'\u001b[39;49m\u001b[43m)\u001b[49m\n",
      "File \u001b[0;32m~/virtual_envs/phd/lib/python3.10/site-packages/cmipaccess/esgf/path_cell_search.py:27\u001b[0m, in \u001b[0;36mget_path_cell\u001b[0;34m(model, variable, grid_label)\u001b[0m\n\u001b[1;32m     24\u001b[0m     table_id \u001b[38;5;241m=\u001b[39m\u001b[38;5;124m'\u001b[39m\u001b[38;5;124mOfx\u001b[39m\u001b[38;5;124m'\u001b[39m\n\u001b[1;32m     26\u001b[0m \u001b[38;5;28;01mfor\u001b[39;00m experiment \u001b[38;5;129;01min\u001b[39;00m [\u001b[38;5;124m'\u001b[39m\u001b[38;5;124mpiControl\u001b[39m\u001b[38;5;124m'\u001b[39m, \u001b[38;5;124m'\u001b[39m\u001b[38;5;124mhistorical\u001b[39m\u001b[38;5;124m'\u001b[39m]:\n\u001b[0;32m---> 27\u001b[0m     list_path_cell \u001b[38;5;241m=\u001b[39m \u001b[43mcmip\u001b[49m\u001b[38;5;241;43m.\u001b[39;49m\u001b[43mesgf\u001b[49m\u001b[38;5;241;43m.\u001b[39;49m\u001b[43mesgf_search\u001b[49m\u001b[43m(\u001b[49m\u001b[43mvariable_id\u001b[49m\u001b[38;5;241;43m=\u001b[39;49m\u001b[43mvariable\u001b[49m\u001b[43m,\u001b[49m\n\u001b[1;32m     28\u001b[0m \u001b[43m                                        \u001b[49m\u001b[43mexperiment_id\u001b[49m\u001b[38;5;241;43m=\u001b[39;49m\u001b[43mexperiment\u001b[49m\u001b[43m,\u001b[49m\n\u001b[1;32m     29\u001b[0m \u001b[43m                                        \u001b[49m\u001b[43mtable_id\u001b[49m\u001b[38;5;241;43m=\u001b[39;49m\u001b[43mtable_id\u001b[49m\u001b[43m,\u001b[49m\n\u001b[1;32m     30\u001b[0m \u001b[43m                                        \u001b[49m\u001b[43mgrid_label\u001b[49m\u001b[38;5;241;43m=\u001b[39;49m\u001b[43mgrid_label\u001b[49m\u001b[43m,\u001b[49m\n\u001b[1;32m     31\u001b[0m \u001b[43m                                        \u001b[49m\u001b[43msource_id\u001b[49m\u001b[38;5;241;43m=\u001b[39;49m\u001b[43mmodel\u001b[49m\u001b[43m,\u001b[49m\u001b[43m)\u001b[49m\n\u001b[1;32m     32\u001b[0m     \u001b[38;5;28;01mif\u001b[39;00m \u001b[38;5;28mlen\u001b[39m(list_path_cell)\u001b[38;5;241m!=\u001b[39m\u001b[38;5;241m0\u001b[39m:\n\u001b[1;32m     33\u001b[0m         \u001b[38;5;28;01mbreak\u001b[39;00m\n",
      "File \u001b[0;32m~/virtual_envs/phd/lib/python3.10/site-packages/cmipaccess/esgf/esgf_data_access.py:58\u001b[0m, in \u001b[0;36mesgf_search\u001b[0;34m(server, files_type, local_node, project, verbose, format, use_csrf, **search)\u001b[0m\n\u001b[1;32m     56\u001b[0m \u001b[38;5;66;03m# print(url)\u001b[39;00m\n\u001b[1;32m     57\u001b[0m r \u001b[38;5;241m=\u001b[39m client\u001b[38;5;241m.\u001b[39mget(url)\n\u001b[0;32m---> 58\u001b[0m \u001b[43mr\u001b[49m\u001b[38;5;241;43m.\u001b[39;49m\u001b[43mraise_for_status\u001b[49m\u001b[43m(\u001b[49m\u001b[43m)\u001b[49m\n\u001b[1;32m     59\u001b[0m resp \u001b[38;5;241m=\u001b[39m r\u001b[38;5;241m.\u001b[39mjson()[\u001b[38;5;124m\"\u001b[39m\u001b[38;5;124mresponse\u001b[39m\u001b[38;5;124m\"\u001b[39m]\n\u001b[1;32m     60\u001b[0m numFound \u001b[38;5;241m=\u001b[39m \u001b[38;5;28mint\u001b[39m(resp[\u001b[38;5;124m\"\u001b[39m\u001b[38;5;124mnumFound\u001b[39m\u001b[38;5;124m\"\u001b[39m])\n",
      "File \u001b[0;32m/net/nfs/tools/u20/Python/miniconda3_py310_22.11.1-1/envs/pangeo-meso-2023.04.15/lib/python3.10/site-packages/requests/models.py:1021\u001b[0m, in \u001b[0;36mResponse.raise_for_status\u001b[0;34m(self)\u001b[0m\n\u001b[1;32m   1016\u001b[0m     http_error_msg \u001b[38;5;241m=\u001b[39m (\n\u001b[1;32m   1017\u001b[0m         \u001b[38;5;124mf\u001b[39m\u001b[38;5;124m\"\u001b[39m\u001b[38;5;132;01m{\u001b[39;00m\u001b[38;5;28mself\u001b[39m\u001b[38;5;241m.\u001b[39mstatus_code\u001b[38;5;132;01m}\u001b[39;00m\u001b[38;5;124m Server Error: \u001b[39m\u001b[38;5;132;01m{\u001b[39;00mreason\u001b[38;5;132;01m}\u001b[39;00m\u001b[38;5;124m for url: \u001b[39m\u001b[38;5;132;01m{\u001b[39;00m\u001b[38;5;28mself\u001b[39m\u001b[38;5;241m.\u001b[39murl\u001b[38;5;132;01m}\u001b[39;00m\u001b[38;5;124m\"\u001b[39m\n\u001b[1;32m   1018\u001b[0m     )\n\u001b[1;32m   1020\u001b[0m \u001b[38;5;28;01mif\u001b[39;00m http_error_msg:\n\u001b[0;32m-> 1021\u001b[0m     \u001b[38;5;28;01mraise\u001b[39;00m HTTPError(http_error_msg, response\u001b[38;5;241m=\u001b[39m\u001b[38;5;28mself\u001b[39m)\n",
      "\u001b[0;31mHTTPError\u001b[0m: 500 Server Error: 500 for url: https://esgf-node.llnl.gov/esg-search/search/?variable_id=areacello&experiment_id=piControl&table_id=Ofx&grid_label=gn&source_id=CESM2&project=CMIP6&type=File&distrib=false&format=application%2Fsolr%2Bjson&offset=0"
     ]
    }
   ],
   "source": [
    "# Get link to cell information variables. For now only possible with areacello and areacella\n",
    "\n",
    "area_path = cmip.esgf.get_path_cell('CESM2','areacello', 'gn')"
   ]
  },
  {
   "cell_type": "code",
   "execution_count": null,
   "metadata": {},
   "outputs": [],
   "source": []
  },
  {
   "cell_type": "markdown",
   "metadata": {},
   "source": []
  },
  {
   "cell_type": "markdown",
   "metadata": {},
   "source": []
  },
  {
   "cell_type": "code",
   "execution_count": null,
   "metadata": {},
   "outputs": [],
   "source": []
  }
 ],
 "metadata": {
  "kernelspec": {
   "display_name": "phd",
   "language": "python",
   "name": "phd"
  },
  "language_info": {
   "codemirror_mode": {
    "name": "ipython",
    "version": 3
   },
   "file_extension": ".py",
   "mimetype": "text/x-python",
   "name": "python",
   "nbconvert_exporter": "python",
   "pygments_lexer": "ipython3",
   "version": "3.10.10"
  }
 },
 "nbformat": 4,
 "nbformat_minor": 2
}
